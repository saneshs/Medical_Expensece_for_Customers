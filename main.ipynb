{
 "cells": [
  {
   "cell_type": "markdown",
   "id": "ad0367f0",
   "metadata": {},
   "source": [
    "### Medical Expenses for Customers"
   ]
  },
  {
   "cell_type": "code",
   "execution_count": null,
   "id": "9a1a8222",
   "metadata": {},
   "outputs": [],
   "source": [
    "# importing libraries\n",
    "import numpy as np\n",
    "import pandas as pd\n",
    "\n",
    "#libs for data visualization\n",
    "import seaborn as sns\n",
    "import matplotlib.pyplot as plt\n",
    "# import plotly.express as px"
   ]
  },
  {
   "cell_type": "code",
   "execution_count": 2,
   "id": "9339325c",
   "metadata": {},
   "outputs": [],
   "source": [
    "#parametere for visualization\n",
    "plt.rcParams['figure.figsize'] = 16, 5 # default (10, 6)\n",
    "plt.style.use('fivethirtyeight') # default 'classic'"
   ]
  },
  {
   "cell_type": "code",
   "execution_count": 5,
   "id": "ebbe9db2",
   "metadata": {},
   "outputs": [],
   "source": [
    "# for available style options\n",
    "# plt.style.available"
   ]
  },
  {
   "cell_type": "code",
   "execution_count": 9,
   "id": "8dee435a",
   "metadata": {},
   "outputs": [],
   "source": [
    "# data set\n",
    "data = pd.read_csv('med-insurance.csv')"
   ]
  },
  {
   "cell_type": "code",
   "execution_count": 10,
   "id": "27c11c44",
   "metadata": {},
   "outputs": [
    {
     "data": {
      "text/plain": [
       "(1338, 7)"
      ]
     },
     "execution_count": 10,
     "metadata": {},
     "output_type": "execute_result"
    }
   ],
   "source": [
    "data.shape"
   ]
  },
  {
   "cell_type": "markdown",
   "id": "05dd0301",
   "metadata": {},
   "source": []
  },
  {
   "cell_type": "code",
   "execution_count": null,
   "id": "10f5e2c2",
   "metadata": {},
   "outputs": [],
   "source": []
  },
  {
   "cell_type": "code",
   "execution_count": null,
   "id": "5a21b4bd",
   "metadata": {},
   "outputs": [],
   "source": []
  },
  {
   "cell_type": "code",
   "execution_count": null,
   "id": "72b75025",
   "metadata": {},
   "outputs": [],
   "source": []
  }
 ],
 "metadata": {
  "kernelspec": {
   "display_name": "base",
   "language": "python",
   "name": "python3"
  },
  "language_info": {
   "codemirror_mode": {
    "name": "ipython",
    "version": 3
   },
   "file_extension": ".py",
   "mimetype": "text/x-python",
   "name": "python",
   "nbconvert_exporter": "python",
   "pygments_lexer": "ipython3",
   "version": "3.12.7"
  }
 },
 "nbformat": 4,
 "nbformat_minor": 5
}
