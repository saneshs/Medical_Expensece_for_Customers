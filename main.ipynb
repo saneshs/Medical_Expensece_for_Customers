{
 "cells": [
  {
   "cell_type": "markdown",
   "id": "ad0367f0",
   "metadata": {},
   "source": [
    "### Medical Expenses for Customers"
   ]
  },
  {
   "cell_type": "code",
   "execution_count": 1,
   "id": "9a1a8222",
   "metadata": {},
   "outputs": [],
   "source": [
    "# importing libraries\n",
    "import numpy as np\n",
    "import pandas as pd\n",
    "\n",
    "#libs for data visualization\n",
    "import seaborn as sns\n",
    "import matplotlib.pyplot as plt\n",
    "import plotly.express as px"
   ]
  },
  {
   "cell_type": "code",
   "execution_count": 2,
   "id": "9339325c",
   "metadata": {},
   "outputs": [],
   "source": [
    "#parametere for visualization\n",
    "plt.rcParams['figure.figsize'] = 16, 5 # default (10, 6)\n",
    "plt.style.use('fivethirtyeight') # default 'classic'"
   ]
  },
  {
   "cell_type": "code",
   "execution_count": 3,
   "id": "8dee435a",
   "metadata": {},
   "outputs": [],
   "source": [
    "# importing data set\n",
    "data = pd.read_csv('med-insurance.csv')"
   ]
  },
  {
   "cell_type": "code",
   "execution_count": 4,
   "id": "27c11c44",
   "metadata": {},
   "outputs": [
    {
     "data": {
      "text/plain": [
       "(1338, 7)"
      ]
     },
     "execution_count": 4,
     "metadata": {},
     "output_type": "execute_result"
    }
   ],
   "source": [
    "# check the shape of the dataset\n",
    "data.shape"
   ]
  },
  {
   "cell_type": "code",
   "execution_count": 5,
   "id": "10f5e2c2",
   "metadata": {},
   "outputs": [
    {
     "data": {
      "text/plain": [
       "Index(['age', 'sex', 'bmi', 'children', 'smoker', 'region', 'expenses'], dtype='object')"
      ]
     },
     "execution_count": 5,
     "metadata": {},
     "output_type": "execute_result"
    }
   ],
   "source": [
    "# check the colums of the dataset\n",
    "data.columns"
   ]
  },
  {
   "cell_type": "code",
   "execution_count": 6,
   "id": "c593b4ba",
   "metadata": {},
   "outputs": [
    {
     "data": {
      "text/html": [
       "<div>\n",
       "<style scoped>\n",
       "    .dataframe tbody tr th:only-of-type {\n",
       "        vertical-align: middle;\n",
       "    }\n",
       "\n",
       "    .dataframe tbody tr th {\n",
       "        vertical-align: top;\n",
       "    }\n",
       "\n",
       "    .dataframe thead th {\n",
       "        text-align: right;\n",
       "    }\n",
       "</style>\n",
       "<table border=\"1\" class=\"dataframe\">\n",
       "  <thead>\n",
       "    <tr style=\"text-align: right;\">\n",
       "      <th></th>\n",
       "      <th>age</th>\n",
       "      <th>sex</th>\n",
       "      <th>bmi</th>\n",
       "      <th>children</th>\n",
       "      <th>smoker</th>\n",
       "      <th>region</th>\n",
       "      <th>expenses</th>\n",
       "    </tr>\n",
       "  </thead>\n",
       "  <tbody>\n",
       "    <tr>\n",
       "      <th>0</th>\n",
       "      <td>19</td>\n",
       "      <td>female</td>\n",
       "      <td>27.9</td>\n",
       "      <td>0</td>\n",
       "      <td>yes</td>\n",
       "      <td>southwest</td>\n",
       "      <td>16884.92</td>\n",
       "    </tr>\n",
       "    <tr>\n",
       "      <th>1</th>\n",
       "      <td>18</td>\n",
       "      <td>male</td>\n",
       "      <td>33.8</td>\n",
       "      <td>1</td>\n",
       "      <td>no</td>\n",
       "      <td>southeast</td>\n",
       "      <td>1725.55</td>\n",
       "    </tr>\n",
       "    <tr>\n",
       "      <th>2</th>\n",
       "      <td>28</td>\n",
       "      <td>male</td>\n",
       "      <td>33.0</td>\n",
       "      <td>3</td>\n",
       "      <td>no</td>\n",
       "      <td>southeast</td>\n",
       "      <td>4449.46</td>\n",
       "    </tr>\n",
       "    <tr>\n",
       "      <th>3</th>\n",
       "      <td>33</td>\n",
       "      <td>male</td>\n",
       "      <td>22.7</td>\n",
       "      <td>0</td>\n",
       "      <td>no</td>\n",
       "      <td>northwest</td>\n",
       "      <td>21984.47</td>\n",
       "    </tr>\n",
       "    <tr>\n",
       "      <th>4</th>\n",
       "      <td>32</td>\n",
       "      <td>male</td>\n",
       "      <td>28.9</td>\n",
       "      <td>0</td>\n",
       "      <td>no</td>\n",
       "      <td>northwest</td>\n",
       "      <td>3866.86</td>\n",
       "    </tr>\n",
       "  </tbody>\n",
       "</table>\n",
       "</div>"
      ],
      "text/plain": [
       "   age     sex   bmi  children smoker     region  expenses\n",
       "0   19  female  27.9         0    yes  southwest  16884.92\n",
       "1   18    male  33.8         1     no  southeast   1725.55\n",
       "2   28    male  33.0         3     no  southeast   4449.46\n",
       "3   33    male  22.7         0     no  northwest  21984.47\n",
       "4   32    male  28.9         0     no  northwest   3866.86"
      ]
     },
     "execution_count": 6,
     "metadata": {},
     "output_type": "execute_result"
    }
   ],
   "source": [
    "# check the head of the dataset\n",
    "data.head()"
   ]
  },
  {
   "cell_type": "code",
   "execution_count": 7,
   "id": "9ed0aa9f",
   "metadata": {},
   "outputs": [
    {
     "data": {
      "text/plain": [
       "age         0\n",
       "sex         0\n",
       "bmi         0\n",
       "children    0\n",
       "smoker      0\n",
       "region      0\n",
       "expenses    0\n",
       "dtype: int64"
      ]
     },
     "execution_count": 7,
     "metadata": {},
     "output_type": "execute_result"
    }
   ],
   "source": [
    "# check the missing values in the dataset\n",
    "data.isnull().sum()"
   ]
  },
  {
   "cell_type": "code",
   "execution_count": 8,
   "id": "fc85fd51",
   "metadata": {},
   "outputs": [
    {
     "data": {
      "text/html": [
       "<style type=\"text/css\">\n",
       "#T_fb0ae_row0_col0, #T_fb0ae_row0_col1, #T_fb0ae_row0_col2, #T_fb0ae_row7_col3 {\n",
       "  background-color: #00441b;\n",
       "  color: #f1f1f1;\n",
       "}\n",
       "#T_fb0ae_row0_col3, #T_fb0ae_row1_col2, #T_fb0ae_row2_col0, #T_fb0ae_row2_col1, #T_fb0ae_row2_col2, #T_fb0ae_row3_col0, #T_fb0ae_row3_col2, #T_fb0ae_row3_col3, #T_fb0ae_row4_col2, #T_fb0ae_row5_col2, #T_fb0ae_row6_col2, #T_fb0ae_row7_col2 {\n",
       "  background-color: #f7fcf5;\n",
       "  color: #000000;\n",
       "}\n",
       "#T_fb0ae_row1_col0, #T_fb0ae_row1_col1, #T_fb0ae_row5_col0, #T_fb0ae_row5_col1 {\n",
       "  background-color: #f5fbf2;\n",
       "  color: #000000;\n",
       "}\n",
       "#T_fb0ae_row1_col3 {\n",
       "  background-color: #d5efcf;\n",
       "  color: #000000;\n",
       "}\n",
       "#T_fb0ae_row2_col3 {\n",
       "  background-color: #daf0d4;\n",
       "  color: #000000;\n",
       "}\n",
       "#T_fb0ae_row3_col1, #T_fb0ae_row4_col0 {\n",
       "  background-color: #f6fcf4;\n",
       "  color: #000000;\n",
       "}\n",
       "#T_fb0ae_row4_col1 {\n",
       "  background-color: #f5fbf3;\n",
       "  color: #000000;\n",
       "}\n",
       "#T_fb0ae_row4_col3 {\n",
       "  background-color: #eff9ec;\n",
       "  color: #000000;\n",
       "}\n",
       "#T_fb0ae_row5_col3 {\n",
       "  background-color: #e4f5df;\n",
       "  color: #000000;\n",
       "}\n",
       "#T_fb0ae_row6_col0 {\n",
       "  background-color: #f3faf0;\n",
       "  color: #000000;\n",
       "}\n",
       "#T_fb0ae_row6_col1 {\n",
       "  background-color: #f4fbf2;\n",
       "  color: #000000;\n",
       "}\n",
       "#T_fb0ae_row6_col3 {\n",
       "  background-color: #c8e9c1;\n",
       "  color: #000000;\n",
       "}\n",
       "#T_fb0ae_row7_col0, #T_fb0ae_row7_col1 {\n",
       "  background-color: #f2faef;\n",
       "  color: #000000;\n",
       "}\n",
       "</style>\n",
       "<table id=\"T_fb0ae\">\n",
       "  <thead>\n",
       "    <tr>\n",
       "      <th class=\"blank level0\" >&nbsp;</th>\n",
       "      <th id=\"T_fb0ae_level0_col0\" class=\"col_heading level0 col0\" >age</th>\n",
       "      <th id=\"T_fb0ae_level0_col1\" class=\"col_heading level0 col1\" >bmi</th>\n",
       "      <th id=\"T_fb0ae_level0_col2\" class=\"col_heading level0 col2\" >children</th>\n",
       "      <th id=\"T_fb0ae_level0_col3\" class=\"col_heading level0 col3\" >expenses</th>\n",
       "    </tr>\n",
       "  </thead>\n",
       "  <tbody>\n",
       "    <tr>\n",
       "      <th id=\"T_fb0ae_level0_row0\" class=\"row_heading level0 row0\" >count</th>\n",
       "      <td id=\"T_fb0ae_row0_col0\" class=\"data row0 col0\" >1338.000000</td>\n",
       "      <td id=\"T_fb0ae_row0_col1\" class=\"data row0 col1\" >1338.000000</td>\n",
       "      <td id=\"T_fb0ae_row0_col2\" class=\"data row0 col2\" >1338.000000</td>\n",
       "      <td id=\"T_fb0ae_row0_col3\" class=\"data row0 col3\" >1338.000000</td>\n",
       "    </tr>\n",
       "    <tr>\n",
       "      <th id=\"T_fb0ae_level0_row1\" class=\"row_heading level0 row1\" >mean</th>\n",
       "      <td id=\"T_fb0ae_row1_col0\" class=\"data row1 col0\" >39.207025</td>\n",
       "      <td id=\"T_fb0ae_row1_col1\" class=\"data row1 col1\" >30.665471</td>\n",
       "      <td id=\"T_fb0ae_row1_col2\" class=\"data row1 col2\" >1.094918</td>\n",
       "      <td id=\"T_fb0ae_row1_col3\" class=\"data row1 col3\" >13270.422414</td>\n",
       "    </tr>\n",
       "    <tr>\n",
       "      <th id=\"T_fb0ae_level0_row2\" class=\"row_heading level0 row2\" >std</th>\n",
       "      <td id=\"T_fb0ae_row2_col0\" class=\"data row2 col0\" >14.049960</td>\n",
       "      <td id=\"T_fb0ae_row2_col1\" class=\"data row2 col1\" >6.098382</td>\n",
       "      <td id=\"T_fb0ae_row2_col2\" class=\"data row2 col2\" >1.205493</td>\n",
       "      <td id=\"T_fb0ae_row2_col3\" class=\"data row2 col3\" >12110.011240</td>\n",
       "    </tr>\n",
       "    <tr>\n",
       "      <th id=\"T_fb0ae_level0_row3\" class=\"row_heading level0 row3\" >min</th>\n",
       "      <td id=\"T_fb0ae_row3_col0\" class=\"data row3 col0\" >18.000000</td>\n",
       "      <td id=\"T_fb0ae_row3_col1\" class=\"data row3 col1\" >16.000000</td>\n",
       "      <td id=\"T_fb0ae_row3_col2\" class=\"data row3 col2\" >0.000000</td>\n",
       "      <td id=\"T_fb0ae_row3_col3\" class=\"data row3 col3\" >1121.870000</td>\n",
       "    </tr>\n",
       "    <tr>\n",
       "      <th id=\"T_fb0ae_level0_row4\" class=\"row_heading level0 row4\" >25%</th>\n",
       "      <td id=\"T_fb0ae_row4_col0\" class=\"data row4 col0\" >27.000000</td>\n",
       "      <td id=\"T_fb0ae_row4_col1\" class=\"data row4 col1\" >26.300000</td>\n",
       "      <td id=\"T_fb0ae_row4_col2\" class=\"data row4 col2\" >0.000000</td>\n",
       "      <td id=\"T_fb0ae_row4_col3\" class=\"data row4 col3\" >4740.287500</td>\n",
       "    </tr>\n",
       "    <tr>\n",
       "      <th id=\"T_fb0ae_level0_row5\" class=\"row_heading level0 row5\" >50%</th>\n",
       "      <td id=\"T_fb0ae_row5_col0\" class=\"data row5 col0\" >39.000000</td>\n",
       "      <td id=\"T_fb0ae_row5_col1\" class=\"data row5 col1\" >30.400000</td>\n",
       "      <td id=\"T_fb0ae_row5_col2\" class=\"data row5 col2\" >1.000000</td>\n",
       "      <td id=\"T_fb0ae_row5_col3\" class=\"data row5 col3\" >9382.030000</td>\n",
       "    </tr>\n",
       "    <tr>\n",
       "      <th id=\"T_fb0ae_level0_row6\" class=\"row_heading level0 row6\" >75%</th>\n",
       "      <td id=\"T_fb0ae_row6_col0\" class=\"data row6 col0\" >51.000000</td>\n",
       "      <td id=\"T_fb0ae_row6_col1\" class=\"data row6 col1\" >34.700000</td>\n",
       "      <td id=\"T_fb0ae_row6_col2\" class=\"data row6 col2\" >2.000000</td>\n",
       "      <td id=\"T_fb0ae_row6_col3\" class=\"data row6 col3\" >16639.915000</td>\n",
       "    </tr>\n",
       "    <tr>\n",
       "      <th id=\"T_fb0ae_level0_row7\" class=\"row_heading level0 row7\" >max</th>\n",
       "      <td id=\"T_fb0ae_row7_col0\" class=\"data row7 col0\" >64.000000</td>\n",
       "      <td id=\"T_fb0ae_row7_col1\" class=\"data row7 col1\" >53.100000</td>\n",
       "      <td id=\"T_fb0ae_row7_col2\" class=\"data row7 col2\" >5.000000</td>\n",
       "      <td id=\"T_fb0ae_row7_col3\" class=\"data row7 col3\" >63770.430000</td>\n",
       "    </tr>\n",
       "  </tbody>\n",
       "</table>\n"
      ],
      "text/plain": [
       "<pandas.io.formats.style.Styler at 0x16945553620>"
      ]
     },
     "execution_count": 8,
     "metadata": {},
     "output_type": "execute_result"
    }
   ],
   "source": [
    "# descriptive summary\n",
    "data.describe().style.background_gradient(cmap = 'Greens')"
   ]
  },
  {
   "cell_type": "markdown",
   "id": "2642493a",
   "metadata": {},
   "source": [
    "### Univariate Analysis"
   ]
  },
  {
   "cell_type": "code",
   "execution_count": 9,
   "id": "5a21b4bd",
   "metadata": {},
   "outputs": [
    {
     "name": "stderr",
     "output_type": "stream",
     "text": [
      "C:\\Users\\ACER\\AppData\\Local\\Temp\\ipykernel_2088\\2345404575.py:12: FutureWarning: \n",
      "\n",
      "Passing `palette` without assigning `hue` is deprecated and will be removed in v0.14.0. Assign the `x` variable to `hue` and set `legend=False` for the same effect.\n",
      "\n",
      "  sns.countplot(x = data['children'], palette='magma')\n"
     ]
    },
    {
     "data": {
      "image/png": "[encoded data removed]",
      "text/plain": [
       "<Figure size 1600x500 with 3 Axes>"
      ]
     },
     "metadata": {},
     "output_type": "display_data"
    }
   ],
   "source": [
    "# Checking distribution between smoker, children and region\n",
    "plt.subplot(1, 3, 1)\n",
    "plt.pie(data['smoker'].value_counts().values,\n",
    "        labels = data['smoker'].value_counts().index,\n",
    "        colors = ['gold', 'silver'],\n",
    "        startangle = 90,\n",
    "        shadow = True,\n",
    "        explode = (0.1, 0)\n",
    "        )\n",
    "\n",
    "plt.subplot(1, 3, 2)\n",
    "sns.countplot(x = data['children'], palette='magma')\n",
    "plt.grid()\n",
    "\n",
    "plt.subplot(1, 3, 3)\n",
    "plt.pie(data['region'].value_counts().values,\n",
    "        labels = data['region'].value_counts().index,\n",
    "        colors = ['gold', 'silver', 'grey', 'black'],\n",
    "        startangle = 90,\n",
    "        shadow = True,\n",
    "        explode = (0.1, 0, 0, 0)\n",
    "        )\n",
    "\n",
    "plt.suptitle('Distribution of Smoker, Children and Region', fontsize = 20)\n",
    "plt.show()"
   ]
  },
  {
   "cell_type": "code",
   "execution_count": 10,
   "id": "72b75025",
   "metadata": {},
   "outputs": [
    {
     "data": {
      "image/png": "[encoded data removed]",
      "text/plain": [
       "<Figure size 1600x500 with 3 Axes>"
      ]
     },
     "metadata": {},
     "output_type": "display_data"
    }
   ],
   "source": [
    "# distribution of age, bmo and expenses\n",
    "plt.subplot(1, 3, 1)\n",
    "sns.histplot(data['age'], color='black', kde=True)\n",
    "plt.xlabel('Age')\n",
    "plt.grid()\n",
    "\n",
    "plt.subplot(1, 3, 2)\n",
    "sns.histplot(data['bmi'], color='orange', kde=True)\n",
    "plt.xlabel('BMI')\n",
    "plt.grid()\n",
    "\n",
    "plt.subplot(1, 3, 3)\n",
    "sns.histplot(data['expenses'], color='aqua', kde=True)\n",
    "plt.xlabel('Expenses')\n",
    "plt.grid()\n",
    "\n",
    "plt.suptitle('Distribution of Age, BMI and Expenses', fontsize = 15)\n",
    "plt.show()"
   ]
  },
  {
   "cell_type": "code",
   "execution_count": 17,
   "id": "68bc7911",
   "metadata": {},
   "outputs": [
    {
     "data": {
      "application/vnd.plotly.v1+json": {
       "config": {
        "plotlyServerURL": "https://plot.ly"
       },
       "data": [
        {
         "hovertemplate": "age=%{x}<br>expenses=%{y}<extra></extra>",
         "legendgroup": "",
         "marker": {
          "color": "#636efa",
          "symbol": "circle"
         },
         "mode": "markers",
         "name": "",
         "showlegend": false,
         "type": "scattergl",
         "x": {
          "bdata": "ExIcISAfLiUlPBk+FzgbEzQXOB48HhIiJTs/NxcfFhITPxwTPhojPBgfKSUmNxIcPCQSFTAkKDo6EjUiKxlAHBQTPSgoHBsfNTosOR0VFikfLRYwJS05OC43FTU7I0AcNjc4JikeEj0iFBMaHT82NyUVNDw6HTElLBIULC8aEzQgJjs9NRMUFhMWNhYiGiIdHh0uMzUTIzAgKigsMBIeMioSNiAlLxQgExs/MRIjGD8mNi4pOhIWLCwkGh4pHT0kGTgSEyctM0ATMDwbLhw7Iz8oFCgYIi0pNRsaGCI1IBMqNxw6KS8qOxM7JygSHxMsFyE3KD82PBgTHRI/NhsyNzgmMxM6FDQTNS4oOy0xEjIpMhkvExY7Myg2Hjc0Li4/OzQcHRkWGRITLx8wJDU4HDkdHB46KTITKzEbNDI2LCAiGiI5HSgbLUA0PTQ9OCtAPD4yLhg+PD8xIiEuJBM5Mh4hEi4uLxcSMCMTFRUxOCosEj05KhoUFycYQD4bNzcjLBM6MhoYMBMwMS4uKxVAEjMvQDEfNCEvJiATLBoZEys0JEA/QD0oGTAtJhIVGxMdKjwfPBYjNBofIRI7OC08OCgjJx4YFCA7Nzk4KDEqPjgTHjw4HBIbEhMvNj0YGRUXPzESMzAfNhMsNRM9Ej0VFB8tLD4dKzMTJiUWFRg5OBszEyc6FC0jHzIgMyYqEhMzLhI5PjslQCYhLi41IhQ/NjYxHDYZKz8gPjQZHC4iIxMuNhsyEhMmKTEwHxIePjk6Fh80GTsTJyATIRUiPSY6LxQVKS4qIis0EjM4QBMzGzscHi8mEiIULzgxEzceJTESOx0kITosNRgdKDNAEyMnOCEqPRcrMCcoEjoxNTAtOzQaGzA5JTkgEkArMSg+KB4dJCksLTc8ODEVEyc1ITUqKC8bFS8UGBsaNSk4FxUyNSIvITMxHyQSMisUGDwxPDM6MzU+EzIeKR0SKSM1GDA7MSUaFx0tGzUfMjIiEy8cJRVAOhgfJy8eEhYXIRstOS8qQCY9NSwTKTMoLSM1HhIzMh8jPBUdPicTFjUnGx4eOiEqQBUSFy0oExIZLiE2HCQUGBcvIS0aEiw8QDgkKSc/JBw6JCokOCM7FTsXOTU8MxcbNyU9LjUxFDAZGTklJjckMygSOT0ZMhoqKywXMSEpJRYXFTMZIDkkFjlAJDYvPj0rExITMTwaMTwaGyw/IBYSOywhGCstPSM+PiYiKzITOT4pGicuLSA7LCcSNRIyEhM+OColKhk5Mx4sIh82GCswEx0/LjQjMywVJzIiFhMaHTAaLSQ2Ih8bFCwrLSIYGiYyJhsnJz8hJB4YGDAvHRwvGTMwKz0wJjsTGjYVMxYvEi8VExc2JS43HhI9NhYtFhMjEhQcNysrFhkxLEAxLxs3MC0YIBg5OyQdKjAnPzYlPxU2PCAvFRw/EiAmID4nNzk0OC83FxYyEjMWNBkhNR06JTYxMhotNiYwHBc3KRkhHhcuNRsXPzcjIhMnGzk0HDIsGiETMik0JzI0PBQ3KhI6KyMwJBMXFCArIh4SKSM5HSAlEis4Jh0WNCgXHyoYGTAXLRQ+KxcfKTowHxMTKSgfJS4WMxIjOyQlOyQnEjQbEigdLiYeKDIUKSEmKjg6NBQ2Oi0aPzolGTRAFhwSHC0hEiAYExQoIiozNjc0IBwpKzFANxgULRoZKyMaORYgJxkwLxISPS8cJBQsJhMVLjoUEhwhEy0+GSsqGB0gGSkqISITHhITEiMnHz4+Kh89KjMXNDkXNDISEhU9",
          "dtype": "i1"
         },
         "xaxis": "x",
         "y": {
          "bdata": "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",
          "dtype": "f8"
         },
         "yaxis": "y"
        },
        {
         "alignmentgroup": "True",
         "hovertemplate": "expenses=%{y}<extra></extra>",
         "legendgroup": "",
         "marker": {
          "color": "#636efa",
          "symbol": "circle"
         },
         "name": "",
         "offsetgroup": "",
         "scalegroup": "y",
         "showlegend": false,
         "type": "violin",
         "xaxis": "x2",
         "y": {
          "bdata": "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",
          "dtype": "f8"
         },
         "yaxis": "y2"
        },
        {
         "hovertemplate": "<b>OLS trendline</b><br>expenses = 257.723 * age + 3165.89<br>R<sup>2</sup>=0.089406<br><br>age=%{x}<br>expenses=%{y} <b>(trend)</b><extra></extra>",
         "legendgroup": "",
         "marker": {
          "color": "#636efa",
          "symbol": "circle"
         },
         "mode": "lines",
         "name": "",
         "showlegend": false,
         "type": "scattergl",
         "x": {
          "bdata": "EhISEhISEhISEhISEhISEhISEhISEhISEhISEhISEhISEhISEhISEhISEhISEhISEhISEhISEhISEhISEhISEhISEhISExMTExMTExMTExMTExMTExMTExMTExMTExMTExMTExMTExMTExMTExMTExMTExMTExMTExMTExMTExMTExMTExMTExMUFBQUFBQUFBQUFBQUFBQUFBQUFBQUFBQUFBQUFBUVFRUVFRUVFRUVFRUVFRUVFRUVFRUVFRUVFRUWFhYWFhYWFhYWFhYWFhYWFhYWFhYWFhYWFhYWFxcXFxcXFxcXFxcXFxcXFxcXFxcXFxcXFxcXFxgYGBgYGBgYGBgYGBgYGBgYGBgYGBgYGBgYGBgZGRkZGRkZGRkZGRkZGRkZGRkZGRkZGRkZGRkZGhoaGhoaGhoaGhoaGhoaGhoaGhoaGhoaGhoaGhsbGxsbGxsbGxsbGxsbGxsbGxsbGxsbGxsbGxscHBwcHBwcHBwcHBwcHBwcHBwcHBwcHBwcHBwcHR0dHR0dHR0dHR0dHR0dHR0dHR0dHR0dHR0dHh4eHh4eHh4eHh4eHh4eHh4eHh4eHh4eHh4eHx8fHx8fHx8fHx8fHx8fHx8fHx8fHx8fHx8fICAgICAgICAgICAgICAgICAgICAgICAgICAhISEhISEhISEhISEhISEhISEhISEhISEhISIiIiIiIiIiIiIiIiIiIiIiIiIiIiIiIiIiIyMjIyMjIyMjIyMjIyMjIyMjIyMjIyMjIyQkJCQkJCQkJCQkJCQkJCQkJCQkJCQkJCQlJSUlJSUlJSUlJSUlJSUlJSUlJSUlJSUlJiYmJiYmJiYmJiYmJiYmJiYmJiYmJiYmJicnJycnJycnJycnJycnJycnJycnJycnJycoKCgoKCgoKCgoKCgoKCgoKCgoKCgoKCgoKCgpKSkpKSkpKSkpKSkpKSkpKSkpKSkpKSkpKSkqKioqKioqKioqKioqKioqKioqKioqKioqKiorKysrKysrKysrKysrKysrKysrKysrKysrKyssLCwsLCwsLCwsLCwsLCwsLCwsLCwsLCwsLCwtLS0tLS0tLS0tLS0tLS0tLS0tLS0tLS0tLS0tLS4uLi4uLi4uLi4uLi4uLi4uLi4uLi4uLi4uLi4uLy8vLy8vLy8vLy8vLy8vLy8vLy8vLy8vLy8vLy8wMDAwMDAwMDAwMDAwMDAwMDAwMDAwMDAwMDAwMDExMTExMTExMTExMTExMTExMTExMTExMTExMTEyMjIyMjIyMjIyMjIyMjIyMjIyMjIyMjIyMjIyMjMzMzMzMzMzMzMzMzMzMzMzMzMzMzMzMzMzMzMzNDQ0NDQ0NDQ0NDQ0NDQ0NDQ0NDQ0NDQ0NDQ0NDQ1NTU1NTU1NTU1NTU1NTU1NTU1NTU1NTU1NTU1NjY2NjY2NjY2NjY2NjY2NjY2NjY2NjY2NjY2Njc3Nzc3Nzc3Nzc3Nzc3Nzc3Nzc3Nzc3Nzc3ODg4ODg4ODg4ODg4ODg4ODg4ODg4ODg4ODg5OTk5OTk5OTk5OTk5OTk5OTk5OTk5OTk5OTo6Ojo6Ojo6Ojo6Ojo6Ojo6Ojo6Ojo6Ojo7Ozs7Ozs7Ozs7Ozs7Ozs7Ozs7Ozs7Ozs7PDw8PDw8PDw8PDw8PDw8PDw8PDw8PDw9PT09PT09PT09PT09PT09PT09PT09PT4+Pj4+Pj4+Pj4+Pj4+Pj4+Pj4+Pj4+Pz8/Pz8/Pz8/Pz8/Pz8/Pz8/Pz8/Pz9AQEBAQEBAQEBAQEBAQEBAQEBAQEBA",
          "dtype": "i1"
         },
         "xaxis": "x",
         "y": {
          "bdata": "lEhYbuR8vkCUSFhu5Hy+QJRIWG7kfL5AlEhYbuR8vkCUSFhu5Hy+QJRIWG7kfL5AlEhYbuR8vkCUSFhu5Hy+QJRIWG7kfL5AlEhYbuR8vkCUSFhu5Hy+QJRIWG7kfL5AlEhYbuR8vkCUSFhu5Hy+QJRIWG7kfL5AlEhYbuR8vkCUSFhu5Hy+QJRIWG7kfL5AlEhYbuR8vkCUSFhu5Hy+QJRIWG7kfL5AlEhYbuR8vkCUSFhu5Hy+QJRIWG7kfL5AlEhYbuR8vkCUSFhu5Hy+QJRIWG7kfL5AlEhYbuR8vkCUSFhu5Hy+QJRIWG7kfL5AlEhYbuR8vkCUSFhu5Hy+QJRIWG7kfL5AlEhYbuR8vkCUSFhu5Hy+QJRIWG7kfL5AlEhYbuR8vkCUSFhu5Hy+QJRIWG7kfL5AlEhYbuR8vkCUSFhu5Hy+QJRIWG7kfL5AlEhYbuR8vkCUSFhu5Hy+QJRIWG7kfL5AlEhYbuR8vkCUSFhu5Hy+QJRIWG7kfL5AlEhYbuR8vkCUSFhu5Hy+QJRIWG7kfL5AlEhYbuR8vkCUSFhu5Hy+QJRIWG7kfL5AlEhYbuR8vkCUSFhu5Hy+QJRIWG7kfL5AlEhYbuR8vkCUSFhu5Hy+QJRIWG7kfL5AlEhYbuR8vkCUSFhu5Hy+QJRIWG7kfL5AlEhYbuR8vkCUSFhu5Hy+QJRIWG7kfL5AlEhYbuR8vkCUSFhu5Hy+QJRIWG7kfL5AHLPTa51+v0Acs9NrnX6/QByz02udfr9AHLPTa51+v0Acs9NrnX6/QByz02udfr9AHLPTa51+v0Acs9NrnX6/QByz02udfr9AHLPTa51+v0Acs9NrnX6/QByz02udfr9AHLPTa51+v0Acs9NrnX6/QByz02udfr9AHLPTa51+v0Acs9NrnX6/QByz02udfr9AHLPTa51+v0Acs9NrnX6/QByz02udfr9AHLPTa51+v0Acs9NrnX6/QByz02udfr9AHLPTa51+v0Acs9NrnX6/QByz02udfr9AHLPTa51+v0Acs9NrnX6/QByz02udfr9AHLPTa51+v0Acs9NrnX6/QByz02udfr9AHLPTa51+v0Acs9NrnX6/QByz02udfr9AHLPTa51+v0Acs9NrnX6/QByz02udfr9AHLPTa51+v0Acs9NrnX6/QByz02udfr9AHLPTa51+v0Acs9NrnX6/QByz02udfr9AHLPTa51+v0Acs9NrnX6/QByz02udfr9AHLPTa51+v0Acs9NrnX6/QByz02udfr9AHLPTa51+v0Acs9NrnX6/QByz02udfr9AHLPTa51+v0Acs9NrnX6/QByz02udfr9AHLPTa51+v0Acs9NrnX6/QByz02udfr9AHLPTa51+v0Acs9NrnX6/QByz02udfr9AHLPTa51+v0Acs9NrnX6/QByz02udfr9AHLPTa51+v0Acs9NrnX6/QNKOpzQrQMBA0o6nNCtAwEDSjqc0K0DAQNKOpzQrQMBA0o6nNCtAwEDSjqc0K0DAQNKOpzQrQMBA0o6nNCtAwEDSjqc0K0DAQNKOpzQrQMBA0o6nNCtAwEDSjqc0K0DAQNKOpzQrQMBA0o6nNCtAwEDSjqc0K0DAQNKOpzQrQMBA0o6nNCtAwEDSjqc0K0DAQNKOpzQrQMBA0o6nNCtAwEDSjqc0K0DAQNKOpzQrQMBA0o6nNCtAwEDSjqc0K0DAQNKOpzQrQMBA0o6nNCtAwEDSjqc0K0DAQNKOpzQrQMBA0o6nNCtAwEAVRGWzB8HAQBVEZbMHwcBAFURlswfBwEAVRGWzB8HAQBVEZbMHwcBAFURlswfBwEAVRGWzB8HAQBVEZbMHwcBAFURlswfBwEAVRGWzB8HAQBVEZbMHwcBAFURlswfBwEAVRGWzB8HAQBVEZbMHwcBAFURlswfBwEAVRGWzB8HAQBVEZbMHwcBAFURlswfBwEAVRGWzB8HAQBVEZbMHwcBAFURlswfBwEAVRGWzB8HAQBVEZbMHwcBAFURlswfBwEAVRGWzB8HAQBVEZbMHwcBAFURlswfBwEAVRGWzB8HAQFn5IjLkQcFAWfkiMuRBwUBZ+SIy5EHBQFn5IjLkQcFAWfkiMuRBwUBZ+SIy5EHBQFn5IjLkQcFAWfkiMuRBwUBZ+SIy5EHBQFn5IjLkQcFAWfkiMuRBwUBZ+SIy5EHBQFn5IjLkQcFAWfkiMuRBwUBZ+SIy5EHBQFn5IjLkQcFAWfkiMuRBwUBZ+SIy5EHBQFn5IjLkQcFAWfkiMuRBwUBZ+SIy5EHBQFn5IjLkQcFAWfkiMuRBwUBZ+SIy5EHBQFn5IjLkQcFAWfkiMuRBwUBZ+SIy5EHBQFn5IjLkQcFAnK7gsMDCwUCcruCwwMLBQJyu4LDAwsFAnK7gsMDCwUCcruCwwMLBQJyu4LDAwsFAnK7gsMDCwUCcruCwwMLBQJyu4LDAwsFAnK7gsMDCwUCcruCwwMLBQJyu4LDAwsFAnK7gsMDCwUCcruCwwMLBQJyu4LDAwsFAnK7gsMDCwUCcruCwwMLBQJyu4LDAwsFAnK7gsMDCwUCcruCwwMLBQJyu4LDAwsFAnK7gsMDCwUCcruCwwMLBQJyu4LDAwsFAnK7gsMDCwUCcruCwwMLBQJyu4LDAwsFAnK7gsMDCwUDgY54vnUPCQOBjni+dQ8JA4GOeL51DwkDgY54vnUPCQOBjni+dQ8JA4GOeL51DwkDgY54vnUPCQOBjni+dQ8JA4GOeL51DwkDgY54vnUPCQOBjni+dQ8JA4GOeL51DwkDgY54vnUPCQOBjni+dQ8JA4GOeL51DwkDgY54vnUPCQOBjni+dQ8JA4GOeL51DwkDgY54vnUPCQOBjni+dQ8JA4GOeL51DwkDgY54vnUPCQOBjni+dQ8JA4GOeL51DwkDgY54vnUPCQOBjni+dQ8JA4GOeL51DwkDgY54vnUPCQCQZXK55xMJAJBlcrnnEwkAkGVyuecTCQCQZXK55xMJAJBlcrnnEwkAkGVyuecTCQCQZXK55xMJAJBlcrnnEwkAkGVyuecTCQCQZXK55xMJAJBlcrnnEwkAkGVyuecTCQCQZXK55xMJAJBlcrnnEwkAkGVyuecTCQCQZXK55xMJAJBlcrnnEwkAkGVyuecTCQCQZXK55xMJAJBlcrnnEwkAkGVyuecTCQCQZXK55xMJAJBlcrnnEwkAkGVyuecTCQCQZXK55xMJAJBlcrnnEwkAkGVyuecTCQCQZXK55xMJAZ84ZLVZFw0BnzhktVkXDQGfOGS1WRcNAZ84ZLVZFw0BnzhktVkXDQGfOGS1WRcNAZ84ZLVZFw0BnzhktVkXDQGfOGS1WRcNAZ84ZLVZFw0BnzhktVkXDQGfOGS1WRcNAZ84ZLVZFw0BnzhktVkXDQGfOGS1WRcNAZ84ZLVZFw0BnzhktVkXDQGfOGS1WRcNAZ84ZLVZFw0BnzhktVkXDQGfOGS1WRcNAZ84ZLVZFw0BnzhktVkXDQGfOGS1WRcNAZ84ZLVZFw0BnzhktVkXDQGfOGS1WRcNAZ84ZLVZFw0Crg9erMsbDQKuD16syxsNAq4PXqzLGw0Crg9erMsbDQKuD16syxsNAq4PXqzLGw0Crg9erMsbDQKuD16syxsNAq4PXqzLGw0Crg9erMsbDQKuD16syxsNAq4PXqzLGw0Crg9erMsbDQKuD16syxsNAq4PXqzLGw0Crg9erMsbDQKuD16syxsNAq4PXqzLGw0Crg9erMsbDQKuD16syxsNAq4PXqzLGw0Crg9erMsbDQKuD16syxsNAq4PXqzLGw0Crg9erMsbDQKuD16syxsNAq4PXqzLGw0Crg9erMsbDQO44lSoPR8RA7jiVKg9HxEDuOJUqD0fEQO44lSoPR8RA7jiVKg9HxEDuOJUqD0fEQO44lSoPR8RA7jiVKg9HxEDuOJUqD0fEQO44lSoPR8RA7jiVKg9HxEDuOJUqD0fEQO44lSoPR8RA7jiVKg9HxEDuOJUqD0fEQO44lSoPR8RA7jiVKg9HxEDuOJUqD0fEQO44lSoPR8RA7jiVKg9HxEDuOJUqD0fEQO44lSoPR8RA7jiVKg9HxEDuOJUqD0fEQO44lSoPR8RA7jiVKg9HxEDuOJUqD0fEQO44lSoPR8RAMu5SqevHxEAy7lKp68fEQDLuUqnrx8RAMu5SqevHxEAy7lKp68fEQDLuUqnrx8RAMu5SqevHxEAy7lKp68fEQDLuUqnrx8RAMu5SqevHxEAy7lKp68fEQDLuUqnrx8RAMu5SqevHxEAy7lKp68fEQDLuUqnrx8RAMu5SqevHxEAy7lKp68fEQDLuUqnrx8RAMu5SqevHxEAy7lKp68fEQDLuUqnrx8RAMu5SqevHxEAy7lKp68fEQDLuUqnrx8RAMu5SqevHxEAy7lKp68fEQDLuUqnrx8RAdqMQKMhIxUB2oxAoyEjFQHajECjISMVAdqMQKMhIxUB2oxAoyEjFQHajECjISMVAdqMQKMhIxUB2oxAoyEjFQHajECjISMVAdqMQKMhIxUB2oxAoyEjFQHajECjISMVAdqMQKMhIxUB2oxAoyEjFQHajECjISMVAdqMQKMhIxUB2oxAoyEjFQHajECjISMVAdqMQKMhIxUB2oxAoyEjFQHajECjISMVAdqMQKMhIxUB2oxAoyEjFQHajECjISMVAdqMQKMhIxUB2oxAoyEjFQHajECjISMVAuVjOpqTJxUC5WM6mpMnFQLlYzqakycVAuVjOpqTJxUC5WM6mpMnFQLlYzqakycVAuVjOpqTJxUC5WM6mpMnFQLlYzqakycVAuVjOpqTJxUC5WM6mpMnFQLlYzqakycVAuVjOpqTJxUC5WM6mpMnFQLlYzqakycVAuVjOpqTJxUC5WM6mpMnFQLlYzqakycVAuVjOpqTJxUC5WM6mpMnFQLlYzqakycVAuVjOpqTJxUC5WM6mpMnFQLlYzqakycVAuVjOpqTJxUC5WM6mpMnFQLlYzqakycVA/Q2MJYFKxkD9DYwlgUrGQP0NjCWBSsZA/Q2MJYFKxkD9DYwlgUrGQP0NjCWBSsZA/Q2MJYFKxkD9DYwlgUrGQP0NjCWBSsZA/Q2MJYFKxkD9DYwlgUrGQP0NjCWBSsZA/Q2MJYFKxkD9DYwlgUrGQP0NjCWBSsZA/Q2MJYFKxkD9DYwlgUrGQP0NjCWBSsZA/Q2MJYFKxkD9DYwlgUrGQP0NjCWBSsZA/Q2MJYFKxkD9DYwlgUrGQP0NjCWBSsZA/Q2MJYFKxkD9DYwlgUrGQEHDSaRdy8ZAQcNJpF3LxkBBw0mkXcvGQEHDSaRdy8ZAQcNJpF3LxkBBw0mkXcvGQEHDSaRdy8ZAQcNJpF3LxkBBw0mkXcvGQEHDSaRdy8ZAQcNJpF3LxkBBw0mkXcvGQEHDSaRdy8ZAQcNJpF3LxkBBw0mkXcvGQEHDSaRdy8ZAQcNJpF3LxkBBw0mkXcvGQEHDSaRdy8ZAQcNJpF3LxkBBw0mkXcvGQEHDSaRdy8ZAQcNJpF3LxkBBw0mkXcvGQEHDSaRdy8ZAQcNJpF3LxkCEeAcjOkzHQIR4ByM6TMdAhHgHIzpMx0CEeAcjOkzHQIR4ByM6TMdAhHgHIzpMx0CEeAcjOkzHQIR4ByM6TMdAhHgHIzpMx0CEeAcjOkzHQIR4ByM6TMdAhHgHIzpMx0CEeAcjOkzHQIR4ByM6TMdAhHgHIzpMx0CEeAcjOkzHQIR4ByM6TMdAhHgHIzpMx0CEeAcjOkzHQIR4ByM6TMdAhHgHIzpMx0CEeAcjOkzHQIR4ByM6TMdAhHgHIzpMx0CEeAcjOkzHQIR4ByM6TMdAyC3FoRbNx0DILcWhFs3HQMgtxaEWzcdAyC3FoRbNx0DILcWhFs3HQMgtxaEWzcdAyC3FoRbNx0DILcWhFs3HQMgtxaEWzcdAyC3FoRbNx0DILcWhFs3HQMgtxaEWzcdAyC3FoRbNx0DILcWhFs3HQMgtxaEWzcdAyC3FoRbNx0DILcWhFs3HQMgtxaEWzcdAyC3FoRbNx0DILcWhFs3HQMgtxaEWzcdAyC3FoRbNx0DILcWhFs3HQMgtxaEWzcdAyC3FoRbNx0AL44Ig803IQAvjgiDzTchAC+OCIPNNyEAL44Ig803IQAvjgiDzTchAC+OCIPNNyEAL44Ig803IQAvjgiDzTchAC+OCIPNNyEAL44Ig803IQAvjgiDzTchAC+OCIPNNyEAL44Ig803IQAvjgiDzTchAC+OCIPNNyEAL44Ig803IQAvjgiDzTchAC+OCIPNNyEAL44Ig803IQAvjgiDzTchAC+OCIPNNyEAL44Ig803IQAvjgiDzTchAC+OCIPNNyEAL44Ig803IQE+YQJ/PzshAT5hAn8/OyEBPmECfz87IQE+YQJ/PzshAT5hAn8/OyEBPmECfz87IQE+YQJ/PzshAT5hAn8/OyEBPmECfz87IQE+YQJ/PzshAT5hAn8/OyEBPmECfz87IQE+YQJ/PzshAT5hAn8/OyEBPmECfz87IQE+YQJ/PzshAT5hAn8/OyEBPmECfz87IQE+YQJ/PzshAT5hAn8/OyEBPmECfz87IQE+YQJ/PzshAT5hAn8/OyEBPmECfz87IQE+YQJ/PzshAk03+HaxPyUCTTf4drE/JQJNN/h2sT8lAk03+HaxPyUCTTf4drE/JQJNN/h2sT8lAk03+HaxPyUCTTf4drE/JQJNN/h2sT8lAk03+HaxPyUCTTf4drE/JQJNN/h2sT8lAk03+HaxPyUCTTf4drE/JQJNN/h2sT8lAk03+HaxPyUCTTf4drE/JQJNN/h2sT8lAk03+HaxPyUCTTf4drE/JQJNN/h2sT8lAk03+HaxPyUCTTf4drE/JQJNN/h2sT8lAk03+HaxPyUDWAryciNDJQNYCvJyI0MlA1gK8nIjQyUDWAryciNDJQNYCvJyI0MlA1gK8nIjQyUDWAryciNDJQNYCvJyI0MlA1gK8nIjQyUDWAryciNDJQNYCvJyI0MlA1gK8nIjQyUDWAryciNDJQNYCvJyI0MlA1gK8nIjQyUDWAryciNDJQNYCvJyI0MlA1gK8nIjQyUDWAryciNDJQNYCvJyI0MlA1gK8nIjQyUDWAryciNDJQNYCvJyI0MlA1gK8nIjQyUDWAryciNDJQBq4eRtlUcpAGrh5G2VRykAauHkbZVHKQBq4eRtlUcpAGrh5G2VRykAauHkbZVHKQBq4eRtlUcpAGrh5G2VRykAauHkbZVHKQBq4eRtlUcpAGrh5G2VRykAauHkbZVHKQBq4eRtlUcpAGrh5G2VRykAauHkbZVHKQBq4eRtlUcpAGrh5G2VRykAauHkbZVHKQBq4eRtlUcpAGrh5G2VRykAauHkbZVHKQBq4eRtlUcpAGrh5G2VRykAauHkbZVHKQBq4eRtlUcpAGrh5G2VRykAauHkbZVHKQF1tN5pB0spAXW03mkHSykBdbTeaQdLKQF1tN5pB0spAXW03mkHSykBdbTeaQdLKQF1tN5pB0spAXW03mkHSykBdbTeaQdLKQF1tN5pB0spAXW03mkHSykBdbTeaQdLKQF1tN5pB0spAXW03mkHSykBdbTeaQdLKQF1tN5pB0spAXW03mkHSykBdbTeaQdLKQF1tN5pB0spAXW03mkHSykBdbTeaQdLKQF1tN5pB0spAXW03mkHSykBdbTeaQdLKQF1tN5pB0spAXW03mkHSykBdbTeaQdLKQKEi9RgeU8tAoSL1GB5Ty0ChIvUYHlPLQKEi9RgeU8tAoSL1GB5Ty0ChIvUYHlPLQKEi9RgeU8tAoSL1GB5Ty0ChIvUYHlPLQKEi9RgeU8tAoSL1GB5Ty0ChIvUYHlPLQKEi9RgeU8tAoSL1GB5Ty0ChIvUYHlPLQKEi9RgeU8tAoSL1GB5Ty0ChIvUYHlPLQKEi9RgeU8tAoSL1GB5Ty0ChIvUYHlPLQKEi9RgeU8tAoSL1GB5Ty0ChIvUYHlPLQKEi9RgeU8tAoSL1GB5Ty0ChIvUYHlPLQOXXspf608tA5deyl/rTy0Dl17KX+tPLQOXXspf608tA5deyl/rTy0Dl17KX+tPLQOXXspf608tA5deyl/rTy0Dl17KX+tPLQOXXspf608tA5deyl/rTy0Dl17KX+tPLQOXXspf608tA5deyl/rTy0Dl17KX+tPLQOXXspf608tA5deyl/rTy0Dl17KX+tPLQOXXspf608tA5deyl/rTy0Dl17KX+tPLQOXXspf608tA5deyl/rTy0Dl17KX+tPLQOXXspf608tA5deyl/rTy0Dl17KX+tPLQCiNcBbXVMxAKI1wFtdUzEAojXAW11TMQCiNcBbXVMxAKI1wFtdUzEAojXAW11TMQCiNcBbXVMxAKI1wFtdUzEAojXAW11TMQCiNcBbXVMxAKI1wFtdUzEAojXAW11TMQCiNcBbXVMxAKI1wFtdUzEAojXAW11TMQCiNcBbXVMxAKI1wFtdUzEAojXAW11TMQCiNcBbXVMxAKI1wFtdUzEAojXAW11TMQCiNcBbXVMxAKI1wFtdUzEAojXAW11TMQCiNcBbXVMxAKI1wFtdUzEAojXAW11TMQGxCLpWz1cxAbEIulbPVzEBsQi6Vs9XMQGxCLpWz1cxAbEIulbPVzEBsQi6Vs9XMQGxCLpWz1cxAbEIulbPVzEBsQi6Vs9XMQGxCLpWz1cxAbEIulbPVzEBsQi6Vs9XMQGxCLpWz1cxAbEIulbPVzEBsQi6Vs9XMQGxCLpWz1cxAbEIulbPVzEBsQi6Vs9XMQGxCLpWz1cxAbEIulbPVzEBsQi6Vs9XMQGxCLpWz1cxAbEIulbPVzEBsQi6Vs9XMQGxCLpWz1cxAbEIulbPVzEBsQi6Vs9XMQGxCLpWz1cxAbEIulbPVzECv9+sTkFbNQK/36xOQVs1Ar/frE5BWzUCv9+sTkFbNQK/36xOQVs1Ar/frE5BWzUCv9+sTkFbNQK/36xOQVs1Ar/frE5BWzUCv9+sTkFbNQK/36xOQVs1Ar/frE5BWzUCv9+sTkFbNQK/36xOQVs1Ar/frE5BWzUCv9+sTkFbNQK/36xOQVs1Ar/frE5BWzUCv9+sTkFbNQK/36xOQVs1Ar/frE5BWzUCv9+sTkFbNQK/36xOQVs1Ar/frE5BWzUCv9+sTkFbNQK/36xOQVs1Ar/frE5BWzUCv9+sTkFbNQK/36xOQVs1A86ypkmzXzUDzrKmSbNfNQPOsqZJs181A86ypkmzXzUDzrKmSbNfNQPOsqZJs181A86ypkmzXzUDzrKmSbNfNQPOsqZJs181A86ypkmzXzUDzrKmSbNfNQPOsqZJs181A86ypkmzXzUDzrKmSbNfNQPOsqZJs181A86ypkmzXzUDzrKmSbNfNQPOsqZJs181A86ypkmzXzUDzrKmSbNfNQPOsqZJs181A86ypkmzXzUDzrKmSbNfNQPOsqZJs181A86ypkmzXzUDzrKmSbNfNQPOsqZJs181A86ypkmzXzUDzrKmSbNfNQDZiZxFJWM5ANmJnEUlYzkA2YmcRSVjOQDZiZxFJWM5ANmJnEUlYzkA2YmcRSVjOQDZiZxFJWM5ANmJnEUlYzkA2YmcRSVjOQDZiZxFJWM5ANmJnEUlYzkA2YmcRSVjOQDZiZxFJWM5ANmJnEUlYzkA2YmcRSVjOQDZiZxFJWM5ANmJnEUlYzkA2YmcRSVjOQDZiZxFJWM5ANmJnEUlYzkA2YmcRSVjOQDZiZxFJWM5ANmJnEUlYzkA2YmcRSVjOQDZiZxFJWM5ANmJnEUlYzkA2YmcRSVjOQDZiZxFJWM5ANmJnEUlYzkB6FyWQJdnOQHoXJZAl2c5AehclkCXZzkB6FyWQJdnOQHoXJZAl2c5AehclkCXZzkB6FyWQJdnOQHoXJZAl2c5AehclkCXZzkB6FyWQJdnOQHoXJZAl2c5AehclkCXZzkB6FyWQJdnOQHoXJZAl2c5AehclkCXZzkB6FyWQJdnOQHoXJZAl2c5AehclkCXZzkB6FyWQJdnOQHoXJZAl2c5AehclkCXZzkB6FyWQJdnOQHoXJZAl2c5AehclkCXZzkB6FyWQJdnOQHoXJZAl2c5AehclkCXZzkB6FyWQJdnOQL7M4g4CWs9AvsziDgJaz0C+zOIOAlrPQL7M4g4CWs9AvsziDgJaz0C+zOIOAlrPQL7M4g4CWs9AvsziDgJaz0C+zOIOAlrPQL7M4g4CWs9AvsziDgJaz0C+zOIOAlrPQL7M4g4CWs9AvsziDgJaz0C+zOIOAlrPQL7M4g4CWs9AvsziDgJaz0C+zOIOAlrPQL7M4g4CWs9AvsziDgJaz0C+zOIOAlrPQL7M4g4CWs9AvsziDgJaz0C+zOIOAlrPQL7M4g4CWs9AvsziDgJaz0C+zOIOAlrPQL7M4g4CWs9AvsziDgJaz0ABgqCN3trPQAGCoI3e2s9AAYKgjd7az0ABgqCN3trPQAGCoI3e2s9AAYKgjd7az0ABgqCN3trPQAGCoI3e2s9AAYKgjd7az0ABgqCN3trPQAGCoI3e2s9AAYKgjd7az0ABgqCN3trPQAGCoI3e2s9AAYKgjd7az0ABgqCN3trPQAGCoI3e2s9AAYKgjd7az0ABgqCN3trPQAGCoI3e2s9AAYKgjd7az0ABgqCN3trPQAGCoI3e2s9AAYKgjd7az0ABgqCN3trPQAGCoI3e2s9AAYKgjd7az0ABgqCN3trPQAGCoI3e2s9Aohsvht0t0ECiGy+G3S3QQKIbL4bdLdBAohsvht0t0ECiGy+G3S3QQKIbL4bdLdBAohsvht0t0ECiGy+G3S3QQKIbL4bdLdBAohsvht0t0ECiGy+G3S3QQKIbL4bdLdBAohsvht0t0ECiGy+G3S3QQKIbL4bdLdBAohsvht0t0ECiGy+G3S3QQKIbL4bdLdBAohsvht0t0ECiGy+G3S3QQKIbL4bdLdBAohsvht0t0ECiGy+G3S3QQKIbL4bdLdBAohsvht0t0ECiGy+G3S3QQKIbL4bdLdBAohsvht0t0ECiGy+G3S3QQET2jcVLbtBARPaNxUtu0EBE9o3FS27QQET2jcVLbtBARPaNxUtu0EBE9o3FS27QQET2jcVLbtBARPaNxUtu0EBE9o3FS27QQET2jcVLbtBARPaNxUtu0EBE9o3FS27QQET2jcVLbtBARPaNxUtu0EBE9o3FS27QQET2jcVLbtBARPaNxUtu0EBE9o3FS27QQET2jcVLbtBARPaNxUtu0EBE9o3FS27QQET2jcVLbtBARPaNxUtu0EBE9o3FS27QQET2jcVLbtBARPaNxUtu0EBE9o3FS27QQET2jcVLbtBA5tDsBLqu0EDm0OwEuq7QQObQ7AS6rtBA5tDsBLqu0EDm0OwEuq7QQObQ7AS6rtBA5tDsBLqu0EDm0OwEuq7QQObQ7AS6rtBA5tDsBLqu0EDm0OwEuq7QQObQ7AS6rtBA5tDsBLqu0EDm0OwEuq7QQObQ7AS6rtBA5tDsBLqu0EDm0OwEuq7QQObQ7AS6rtBA5tDsBLqu0EDm0OwEuq7QQObQ7AS6rtBA5tDsBLqu0EDm0OwEuq7QQObQ7AS6rtBA5tDsBLqu0EDm0OwEuq7QQObQ7AS6rtBA5tDsBLqu0ECIq0tEKO/QQIirS0Qo79BAiKtLRCjv0ECIq0tEKO/QQIirS0Qo79BAiKtLRCjv0ECIq0tEKO/QQIirS0Qo79BAiKtLRCjv0ECIq0tEKO/QQIirS0Qo79BAiKtLRCjv0ECIq0tEKO/QQIirS0Qo79BAiKtLRCjv0ECIq0tEKO/QQIirS0Qo79BAiKtLRCjv0ECIq0tEKO/QQIirS0Qo79BAiKtLRCjv0ECIq0tEKO/QQIirS0Qo79BAiKtLRCjv0ECIq0tEKO/QQIirS0Qo79BAKYaqg5Yv0UAphqqDli/RQCmGqoOWL9FAKYaqg5Yv0UAphqqDli/RQCmGqoOWL9FAKYaqg5Yv0UAphqqDli/RQCmGqoOWL9FAKYaqg5Yv0UAphqqDli/RQCmGqoOWL9FAKYaqg5Yv0UAphqqDli/RQCmGqoOWL9FAKYaqg5Yv0UAphqqDli/RQCmGqoOWL9FAKYaqg5Yv0UAphqqDli/RQCmGqoOWL9FAKYaqg5Yv0UAphqqDli/RQCmGqoOWL9FAKYaqg5Yv0UAphqqDli/RQMtgCcMEcNFAy2AJwwRw0UDLYAnDBHDRQMtgCcMEcNFAy2AJwwRw0UDLYAnDBHDRQMtgCcMEcNFAy2AJwwRw0UDLYAnDBHDRQMtgCcMEcNFAy2AJwwRw0UDLYAnDBHDRQMtgCcMEcNFAy2AJwwRw0UDLYAnDBHDRQMtgCcMEcNFAy2AJwwRw0UDLYAnDBHDRQMtgCcMEcNFAy2AJwwRw0UDLYAnDBHDRQMtgCcMEcNFAy2AJwwRw0UDLYAnDBHDRQMtgCcMEcNFAy2AJwwRw0UBtO2gCc7DRQG07aAJzsNFAbTtoAnOw0UBtO2gCc7DRQG07aAJzsNFAbTtoAnOw0UBtO2gCc7DRQG07aAJzsNFAbTtoAnOw0UBtO2gCc7DRQG07aAJzsNFAbTtoAnOw0UBtO2gCc7DRQG07aAJzsNFAbTtoAnOw0UBtO2gCc7DRQG07aAJzsNFAbTtoAnOw0UBtO2gCc7DRQG07aAJzsNFAbTtoAnOw0UBtO2gCc7DRQG07aAJzsNFAbTtoAnOw0UBtO2gCc7DRQA8Wx0Hh8NFADxbHQeHw0UAPFsdB4fDRQA8Wx0Hh8NFADxbHQeHw0UAPFsdB4fDRQA8Wx0Hh8NFADxbHQeHw0UAPFsdB4fDRQA8Wx0Hh8NFADxbHQeHw0UAPFsdB4fDRQA8Wx0Hh8NFADxbHQeHw0UAPFsdB4fDRQA8Wx0Hh8NFADxbHQeHw0UAPFsdB4fDRQA8Wx0Hh8NFADxbHQeHw0UAPFsdB4fDRQA8Wx0Hh8NFADxbHQeHw0UAPFsdB4fDRQA8Wx0Hh8NFAsfAlgU8x0kCx8CWBTzHSQLHwJYFPMdJAsfAlgU8x0kCx8CWBTzHSQLHwJYFPMdJAsfAlgU8x0kCx8CWBTzHSQLHwJYFPMdJAsfAlgU8x0kCx8CWBTzHSQLHwJYFPMdJAsfAlgU8x0kCx8CWBTzHSQLHwJYFPMdJAsfAlgU8x0kCx8CWBTzHSQLHwJYFPMdJAsfAlgU8x0kCx8CWBTzHSQLHwJYFPMdJAsfAlgU8x0kCx8CWBTzHSQFLLhMC9cdJAUsuEwL1x0kBSy4TAvXHSQFLLhMC9cdJAUsuEwL1x0kBSy4TAvXHSQFLLhMC9cdJAUsuEwL1x0kBSy4TAvXHSQFLLhMC9cdJAUsuEwL1x0kBSy4TAvXHSQFLLhMC9cdJAUsuEwL1x0kBSy4TAvXHSQFLLhMC9cdJAUsuEwL1x0kBSy4TAvXHSQFLLhMC9cdJAUsuEwL1x0kBSy4TAvXHSQFLLhMC9cdJAUsuEwL1x0kD0peP/K7LSQPSl4/8rstJA9KXj/yuy0kD0peP/K7LSQPSl4/8rstJA9KXj/yuy0kD0peP/K7LSQPSl4/8rstJA9KXj/yuy0kD0peP/K7LSQPSl4/8rstJA9KXj/yuy0kD0peP/K7LSQPSl4/8rstJA9KXj/yuy0kD0peP/K7LSQPSl4/8rstJA9KXj/yuy0kD0peP/K7LSQPSl4/8rstJA9KXj/yuy0kD0peP/K7LSQPSl4/8rstJAloBCP5ry0kCWgEI/mvLSQJaAQj+a8tJAloBCP5ry0kCWgEI/mvLSQJaAQj+a8tJAloBCP5ry0kCWgEI/mvLSQJaAQj+a8tJAloBCP5ry0kCWgEI/mvLSQJaAQj+a8tJAloBCP5ry0kCWgEI/mvLSQJaAQj+a8tJAloBCP5ry0kCWgEI/mvLSQJaAQj+a8tJAloBCP5ry0kCWgEI/mvLSQJaAQj+a8tJAloBCP5ry0kCWgEI/mvLSQDhboX4IM9NAOFuhfggz00A4W6F+CDPTQDhboX4IM9NAOFuhfggz00A4W6F+CDPTQDhboX4IM9NAOFuhfggz00A4W6F+CDPTQDhboX4IM9NAOFuhfggz00A4W6F+CDPTQDhboX4IM9NAOFuhfggz00A4W6F+CDPTQDhboX4IM9NAOFuhfggz00A4W6F+CDPTQDhboX4IM9NAOFuhfggz00A4W6F+CDPTQDhboX4IM9NA",
          "dtype": "f8"
         },
         "yaxis": "y"
        }
       ],
       "layout": {
        "legend": {
         "tracegroupgap": 0
        },
        "margin": {
         "t": 60
        },
        "template": {
         "data": {
          "bar": [
           {
            "error_x": {
             "color": "#2a3f5f"
            },
            "error_y": {
             "color": "#2a3f5f"
            },
            "marker": {
             "line": {
              "color": "#E5ECF6",
              "width": 0.5
             },
             "pattern": {
              "fillmode": "overlay",
              "size": 10,
              "solidity": 0.2
             }
            },
            "type": "bar"
           }
          ],
          "barpolar": [
           {
            "marker": {
             "line": {
              "color": "#E5ECF6",
              "width": 0.5
             },
             "pattern": {
              "fillmode": "overlay",
              "size": 10,
              "solidity": 0.2
             }
            },
            "type": "barpolar"
           }
          ],
          "carpet": [
           {
            "aaxis": {
             "endlinecolor": "#2a3f5f",
             "gridcolor": "white",
             "linecolor": "white",
             "minorgridcolor": "white",
             "startlinecolor": "#2a3f5f"
            },
            "baxis": {
             "endlinecolor": "#2a3f5f",
             "gridcolor": "white",
             "linecolor": "white",
             "minorgridcolor": "white",
             "startlinecolor": "#2a3f5f"
            },
            "type": "carpet"
           }
          ],
          "choropleth": [
           {
            "colorbar": {
             "outlinewidth": 0,
             "ticks": ""
            },
            "type": "choropleth"
           }
          ],
          "contour": [
           {
            "colorbar": {
             "outlinewidth": 0,
             "ticks": ""
            },
            "colorscale": [
             [
              0,
              "#0d0887"
             ],
             [
              0.1111111111111111,
              "#46039f"
             ],
             [
              0.2222222222222222,
              "#7201a8"
             ],
             [
              0.3333333333333333,
              "#9c179e"
             ],
             [
              0.4444444444444444,
              "#bd3786"
             ],
             [
              0.5555555555555556,
              "#d8576b"
             ],
             [
              0.6666666666666666,
              "#ed7953"
             ],
             [
              0.7777777777777778,
              "#fb9f3a"
             ],
             [
              0.8888888888888888,
              "#fdca26"
             ],
             [
              1,
              "#f0f921"
             ]
            ],
            "type": "contour"
           }
          ],
          "contourcarpet": [
           {
            "colorbar": {
             "outlinewidth": 0,
             "ticks": ""
            },
            "type": "contourcarpet"
           }
          ],
          "heatmap": [
           {
            "colorbar": {
             "outlinewidth": 0,
             "ticks": ""
            },
            "colorscale": [
             [
              0,
              "#0d0887"
             ],
             [
              0.1111111111111111,
              "#46039f"
             ],
             [
              0.2222222222222222,
              "#7201a8"
             ],
             [
              0.3333333333333333,
              "#9c179e"
             ],
             [
              0.4444444444444444,
              "#bd3786"
             ],
             [
              0.5555555555555556,
              "#d8576b"
             ],
             [
              0.6666666666666666,
              "#ed7953"
             ],
             [
              0.7777777777777778,
              "#fb9f3a"
             ],
             [
              0.8888888888888888,
              "#fdca26"
             ],
             [
              1,
              "#f0f921"
             ]
            ],
            "type": "heatmap"
           }
          ],
          "histogram": [
           {
            "marker": {
             "pattern": {
              "fillmode": "overlay",
              "size": 10,
              "solidity": 0.2
             }
            },
            "type": "histogram"
           }
          ],
          "histogram2d": [
           {
            "colorbar": {
             "outlinewidth": 0,
             "ticks": ""
            },
            "colorscale": [
             [
              0,
              "#0d0887"
             ],
             [
              0.1111111111111111,
              "#46039f"
             ],
             [
              0.2222222222222222,
              "#7201a8"
             ],
             [
              0.3333333333333333,
              "#9c179e"
             ],
             [
              0.4444444444444444,
              "#bd3786"
             ],
             [
              0.5555555555555556,
              "#d8576b"
             ],
             [
              0.6666666666666666,
              "#ed7953"
             ],
             [
              0.7777777777777778,
              "#fb9f3a"
             ],
             [
              0.8888888888888888,
              "#fdca26"
             ],
             [
              1,
              "#f0f921"
             ]
            ],
            "type": "histogram2d"
           }
          ],
          "histogram2dcontour": [
           {
            "colorbar": {
             "outlinewidth": 0,
             "ticks": ""
            },
            "colorscale": [
             [
              0,
              "#0d0887"
             ],
             [
              0.1111111111111111,
              "#46039f"
             ],
             [
              0.2222222222222222,
              "#7201a8"
             ],
             [
              0.3333333333333333,
              "#9c179e"
             ],
             [
              0.4444444444444444,
              "#bd3786"
             ],
             [
              0.5555555555555556,
              "#d8576b"
             ],
             [
              0.6666666666666666,
              "#ed7953"
             ],
             [
              0.7777777777777778,
              "#fb9f3a"
             ],
             [
              0.8888888888888888,
              "#fdca26"
             ],
             [
              1,
              "#f0f921"
             ]
            ],
            "type": "histogram2dcontour"
           }
          ],
          "mesh3d": [
           {
            "colorbar": {
             "outlinewidth": 0,
             "ticks": ""
            },
            "type": "mesh3d"
           }
          ],
          "parcoords": [
           {
            "line": {
             "colorbar": {
              "outlinewidth": 0,
              "ticks": ""
             }
            },
            "type": "parcoords"
           }
          ],
          "pie": [
           {
            "automargin": true,
            "type": "pie"
           }
          ],
          "scatter": [
           {
            "fillpattern": {
             "fillmode": "overlay",
             "size": 10,
             "solidity": 0.2
            },
            "type": "scatter"
           }
          ],
          "scatter3d": [
           {
            "line": {
             "colorbar": {
              "outlinewidth": 0,
              "ticks": ""
             }
            },
            "marker": {
             "colorbar": {
              "outlinewidth": 0,
              "ticks": ""
             }
            },
            "type": "scatter3d"
           }
          ],
          "scattercarpet": [
           {
            "marker": {
             "colorbar": {
              "outlinewidth": 0,
              "ticks": ""
             }
            },
            "type": "scattercarpet"
           }
          ],
          "scattergeo": [
           {
            "marker": {
             "colorbar": {
              "outlinewidth": 0,
              "ticks": ""
             }
            },
            "type": "scattergeo"
           }
          ],
          "scattergl": [
           {
            "marker": {
             "colorbar": {
              "outlinewidth": 0,
              "ticks": ""
             }
            },
            "type": "scattergl"
           }
          ],
          "scattermap": [
           {
            "marker": {
             "colorbar": {
              "outlinewidth": 0,
              "ticks": ""
             }
            },
            "type": "scattermap"
           }
          ],
          "scattermapbox": [
           {
            "marker": {
             "colorbar": {
              "outlinewidth": 0,
              "ticks": ""
             }
            },
            "type": "scattermapbox"
           }
          ],
          "scatterpolar": [
           {
            "marker": {
             "colorbar": {
              "outlinewidth": 0,
              "ticks": ""
             }
            },
            "type": "scatterpolar"
           }
          ],
          "scatterpolargl": [
           {
            "marker": {
             "colorbar": {
              "outlinewidth": 0,
              "ticks": ""
             }
            },
            "type": "scatterpolargl"
           }
          ],
          "scatterternary": [
           {
            "marker": {
             "colorbar": {
              "outlinewidth": 0,
              "ticks": ""
             }
            },
            "type": "scatterternary"
           }
          ],
          "surface": [
           {
            "colorbar": {
             "outlinewidth": 0,
             "ticks": ""
            },
            "colorscale": [
             [
              0,
              "#0d0887"
             ],
             [
              0.1111111111111111,
              "#46039f"
             ],
             [
              0.2222222222222222,
              "#7201a8"
             ],
             [
              0.3333333333333333,
              "#9c179e"
             ],
             [
              0.4444444444444444,
              "#bd3786"
             ],
             [
              0.5555555555555556,
              "#d8576b"
             ],
             [
              0.6666666666666666,
              "#ed7953"
             ],
             [
              0.7777777777777778,
              "#fb9f3a"
             ],
             [
              0.8888888888888888,
              "#fdca26"
             ],
             [
              1,
              "#f0f921"
             ]
            ],
            "type": "surface"
           }
          ],
          "table": [
           {
            "cells": {
             "fill": {
              "color": "#EBF0F8"
             },
             "line": {
              "color": "white"
             }
            },
            "header": {
             "fill": {
              "color": "#C8D4E3"
             },
             "line": {
              "color": "white"
             }
            },
            "type": "table"
           }
          ]
         },
         "layout": {
          "annotationdefaults": {
           "arrowcolor": "#2a3f5f",
           "arrowhead": 0,
           "arrowwidth": 1
          },
          "autotypenumbers": "strict",
          "coloraxis": {
           "colorbar": {
            "outlinewidth": 0,
            "ticks": ""
           }
          },
          "colorscale": {
           "diverging": [
            [
             0,
             "#8e0152"
            ],
            [
             0.1,
             "#c51b7d"
            ],
            [
             0.2,
             "#de77ae"
            ],
            [
             0.3,
             "#f1b6da"
            ],
            [
             0.4,
             "#fde0ef"
            ],
            [
             0.5,
             "#f7f7f7"
            ],
            [
             0.6,
             "#e6f5d0"
            ],
            [
             0.7,
             "#b8e186"
            ],
            [
             0.8,
             "#7fbc41"
            ],
            [
             0.9,
             "#4d9221"
            ],
            [
             1,
             "#276419"
            ]
           ],
           "sequential": [
            [
             0,
             "#0d0887"
            ],
            [
             0.1111111111111111,
             "#46039f"
            ],
            [
             0.2222222222222222,
             "#7201a8"
            ],
            [
             0.3333333333333333,
             "#9c179e"
            ],
            [
             0.4444444444444444,
             "#bd3786"
            ],
            [
             0.5555555555555556,
             "#d8576b"
            ],
            [
             0.6666666666666666,
             "#ed7953"
            ],
            [
             0.7777777777777778,
             "#fb9f3a"
            ],
            [
             0.8888888888888888,
             "#fdca26"
            ],
            [
             1,
             "#f0f921"
            ]
           ],
           "sequentialminus": [
            [
             0,
             "#0d0887"
            ],
            [
             0.1111111111111111,
             "#46039f"
            ],
            [
             0.2222222222222222,
             "#7201a8"
            ],
            [
             0.3333333333333333,
             "#9c179e"
            ],
            [
             0.4444444444444444,
             "#bd3786"
            ],
            [
             0.5555555555555556,
             "#d8576b"
            ],
            [
             0.6666666666666666,
             "#ed7953"
            ],
            [
             0.7777777777777778,
             "#fb9f3a"
            ],
            [
             0.8888888888888888,
             "#fdca26"
            ],
            [
             1,
             "#f0f921"
            ]
           ]
          },
          "colorway": [
           "#636efa",
           "#EF553B",
           "#00cc96",
           "#ab63fa",
           "#FFA15A",
           "#19d3f3",
           "#FF6692",
           "#B6E880",
           "#FF97FF",
           "#FECB52"
          ],
          "font": {
           "color": "#2a3f5f"
          },
          "geo": {
           "bgcolor": "white",
           "lakecolor": "white",
           "landcolor": "#E5ECF6",
           "showlakes": true,
           "showland": true,
           "subunitcolor": "white"
          },
          "hoverlabel": {
           "align": "left"
          },
          "hovermode": "closest",
          "mapbox": {
           "style": "light"
          },
          "paper_bgcolor": "white",
          "plot_bgcolor": "#E5ECF6",
          "polar": {
           "angularaxis": {
            "gridcolor": "white",
            "linecolor": "white",
            "ticks": ""
           },
           "bgcolor": "#E5ECF6",
           "radialaxis": {
            "gridcolor": "white",
            "linecolor": "white",
            "ticks": ""
           }
          },
          "scene": {
           "xaxis": {
            "backgroundcolor": "#E5ECF6",
            "gridcolor": "white",
            "gridwidth": 2,
            "linecolor": "white",
            "showbackground": true,
            "ticks": "",
            "zerolinecolor": "white"
           },
           "yaxis": {
            "backgroundcolor": "#E5ECF6",
            "gridcolor": "white",
            "gridwidth": 2,
            "linecolor": "white",
            "showbackground": true,
            "ticks": "",
            "zerolinecolor": "white"
           },
           "zaxis": {
            "backgroundcolor": "#E5ECF6",
            "gridcolor": "white",
            "gridwidth": 2,
            "linecolor": "white",
            "showbackground": true,
            "ticks": "",
            "zerolinecolor": "white"
           }
          },
          "shapedefaults": {
           "line": {
            "color": "#2a3f5f"
           }
          },
          "ternary": {
           "aaxis": {
            "gridcolor": "white",
            "linecolor": "white",
            "ticks": ""
           },
           "baxis": {
            "gridcolor": "white",
            "linecolor": "white",
            "ticks": ""
           },
           "bgcolor": "#E5ECF6",
           "caxis": {
            "gridcolor": "white",
            "linecolor": "white",
            "ticks": ""
           }
          },
          "title": {
           "x": 0.05
          },
          "xaxis": {
           "automargin": true,
           "gridcolor": "white",
           "linecolor": "white",
           "ticks": "",
           "title": {
            "standoff": 15
           },
           "zerolinecolor": "white",
           "zerolinewidth": 2
          },
          "yaxis": {
           "automargin": true,
           "gridcolor": "white",
           "linecolor": "white",
           "ticks": "",
           "title": {
            "standoff": 15
           },
           "zerolinecolor": "white",
           "zerolinewidth": 2
          }
         }
        },
        "xaxis": {
         "anchor": "y",
         "domain": [
          0,
          0.8358
         ],
         "title": {
          "text": "age"
         }
        },
        "xaxis2": {
         "anchor": "y2",
         "domain": [
          0.8408,
          1
         ],
         "matches": "x2",
         "showgrid": false,
         "showline": false,
         "showticklabels": false,
         "ticks": ""
        },
        "yaxis": {
         "anchor": "x",
         "domain": [
          0,
          1
         ],
         "title": {
          "text": "expenses"
         }
        },
        "yaxis2": {
         "anchor": "x2",
         "domain": [
          0,
          1
         ],
         "matches": "y",
         "showgrid": true,
         "showticklabels": false
        }
       }
      }
     },
     "metadata": {},
     "output_type": "display_data"
    }
   ],
   "source": [
    "# Impact of Age on Medical Expenses\n",
    "px.scatter(data, x='age', y='expenses', marginal_y = 'violin', trendline=  'ols')"
   ]
  },
  {
   "cell_type": "code",
   "execution_count": 18,
   "id": "4c797735",
   "metadata": {},
   "outputs": [
    {
     "data": {
      "application/vnd.plotly.v1+json": {
       "config": {
        "plotlyServerURL": "https://plot.ly"
       },
       "data": [
        {
         "hovertemplate": "bmi=%{x}<br>expenses=%{y}<extra></extra>",
         "legendgroup": "",
         "marker": {
          "color": "#636efa",
          "symbol": "circle"
         },
         "mode": "markers",
         "name": "",
         "showlegend": false,
         "type": "scattergl",
         "x": {
          "bdata": "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",
          "dtype": "f8"
         },
         "xaxis": "x",
         "y": {
          "bdata": "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",
          "dtype": "f8"
         },
         "yaxis": "y"
        },
        {
         "alignmentgroup": "True",
         "hovertemplate": "expenses=%{y}<extra></extra>",
         "legendgroup": "",
         "marker": {
          "color": "#636efa",
          "symbol": "circle"
         },
         "name": "",
         "offsetgroup": "",
         "scalegroup": "y",
         "showlegend": false,
         "type": "violin",
         "xaxis": "x2",
         "y": {
          "bdata": "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",
          "dtype": "f8"
         },
         "yaxis": "y2"
        },
        {
         "hovertemplate": "<b>OLS trendline</b><br>expenses = 394.328 * bmi + 1178.18<br>R<sup>2</sup>=0.039433<br><br>bmi=%{x}<br>expenses=%{y} <b>(trend)</b><extra></extra>",
         "legendgroup": "",
         "marker": {
          "color": "#636efa",
          "symbol": "circle"
         },
         "mode": "lines",
         "name": "",
         "showlegend": false,
         "type": "scattergl",
         "x": {
          "bdata": "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",
          "dtype": "f8"
         },
         "xaxis": "x",
         "y": {
          "bdata": "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",
          "dtype": "f8"
         },
         "yaxis": "y"
        }
       ],
       "layout": {
        "legend": {
         "tracegroupgap": 0
        },
        "margin": {
         "t": 60
        },
        "template": {
         "data": {
          "bar": [
           {
            "error_x": {
             "color": "#2a3f5f"
            },
            "error_y": {
             "color": "#2a3f5f"
            },
            "marker": {
             "line": {
              "color": "#E5ECF6",
              "width": 0.5
             },
             "pattern": {
              "fillmode": "overlay",
              "size": 10,
              "solidity": 0.2
             }
            },
            "type": "bar"
           }
          ],
          "barpolar": [
           {
            "marker": {
             "line": {
              "color": "#E5ECF6",
              "width": 0.5
             },
             "pattern": {
              "fillmode": "overlay",
              "size": 10,
              "solidity": 0.2
             }
            },
            "type": "barpolar"
           }
          ],
          "carpet": [
           {
            "aaxis": {
             "endlinecolor": "#2a3f5f",
             "gridcolor": "white",
             "linecolor": "white",
             "minorgridcolor": "white",
             "startlinecolor": "#2a3f5f"
            },
            "baxis": {
             "endlinecolor": "#2a3f5f",
             "gridcolor": "white",
             "linecolor": "white",
             "minorgridcolor": "white",
             "startlinecolor": "#2a3f5f"
            },
            "type": "carpet"
           }
          ],
          "choropleth": [
           {
            "colorbar": {
             "outlinewidth": 0,
             "ticks": ""
            },
            "type": "choropleth"
           }
          ],
          "contour": [
           {
            "colorbar": {
             "outlinewidth": 0,
             "ticks": ""
            },
            "colorscale": [
             [
              0,
              "#0d0887"
             ],
             [
              0.1111111111111111,
              "#46039f"
             ],
             [
              0.2222222222222222,
              "#7201a8"
             ],
             [
              0.3333333333333333,
              "#9c179e"
             ],
             [
              0.4444444444444444,
              "#bd3786"
             ],
             [
              0.5555555555555556,
              "#d8576b"
             ],
             [
              0.6666666666666666,
              "#ed7953"
             ],
             [
              0.7777777777777778,
              "#fb9f3a"
             ],
             [
              0.8888888888888888,
              "#fdca26"
             ],
             [
              1,
              "#f0f921"
             ]
            ],
            "type": "contour"
           }
          ],
          "contourcarpet": [
           {
            "colorbar": {
             "outlinewidth": 0,
             "ticks": ""
            },
            "type": "contourcarpet"
           }
          ],
          "heatmap": [
           {
            "colorbar": {
             "outlinewidth": 0,
             "ticks": ""
            },
            "colorscale": [
             [
              0,
              "#0d0887"
             ],
             [
              0.1111111111111111,
              "#46039f"
             ],
             [
              0.2222222222222222,
              "#7201a8"
             ],
             [
              0.3333333333333333,
              "#9c179e"
             ],
             [
              0.4444444444444444,
              "#bd3786"
             ],
             [
              0.5555555555555556,
              "#d8576b"
             ],
             [
              0.6666666666666666,
              "#ed7953"
             ],
             [
              0.7777777777777778,
              "#fb9f3a"
             ],
             [
              0.8888888888888888,
              "#fdca26"
             ],
             [
              1,
              "#f0f921"
             ]
            ],
            "type": "heatmap"
           }
          ],
          "histogram": [
           {
            "marker": {
             "pattern": {
              "fillmode": "overlay",
              "size": 10,
              "solidity": 0.2
             }
            },
            "type": "histogram"
           }
          ],
          "histogram2d": [
           {
            "colorbar": {
             "outlinewidth": 0,
             "ticks": ""
            },
            "colorscale": [
             [
              0,
              "#0d0887"
             ],
             [
              0.1111111111111111,
              "#46039f"
             ],
             [
              0.2222222222222222,
              "#7201a8"
             ],
             [
              0.3333333333333333,
              "#9c179e"
             ],
             [
              0.4444444444444444,
              "#bd3786"
             ],
             [
              0.5555555555555556,
              "#d8576b"
             ],
             [
              0.6666666666666666,
              "#ed7953"
             ],
             [
              0.7777777777777778,
              "#fb9f3a"
             ],
             [
              0.8888888888888888,
              "#fdca26"
             ],
             [
              1,
              "#f0f921"
             ]
            ],
            "type": "histogram2d"
           }
          ],
          "histogram2dcontour": [
           {
            "colorbar": {
             "outlinewidth": 0,
             "ticks": ""
            },
            "colorscale": [
             [
              0,
              "#0d0887"
             ],
             [
              0.1111111111111111,
              "#46039f"
             ],
             [
              0.2222222222222222,
              "#7201a8"
             ],
             [
              0.3333333333333333,
              "#9c179e"
             ],
             [
              0.4444444444444444,
              "#bd3786"
             ],
             [
              0.5555555555555556,
              "#d8576b"
             ],
             [
              0.6666666666666666,
              "#ed7953"
             ],
             [
              0.7777777777777778,
              "#fb9f3a"
             ],
             [
              0.8888888888888888,
              "#fdca26"
             ],
             [
              1,
              "#f0f921"
             ]
            ],
            "type": "histogram2dcontour"
           }
          ],
          "mesh3d": [
           {
            "colorbar": {
             "outlinewidth": 0,
             "ticks": ""
            },
            "type": "mesh3d"
           }
          ],
          "parcoords": [
           {
            "line": {
             "colorbar": {
              "outlinewidth": 0,
              "ticks": ""
             }
            },
            "type": "parcoords"
           }
          ],
          "pie": [
           {
            "automargin": true,
            "type": "pie"
           }
          ],
          "scatter": [
           {
            "fillpattern": {
             "fillmode": "overlay",
             "size": 10,
             "solidity": 0.2
            },
            "type": "scatter"
           }
          ],
          "scatter3d": [
           {
            "line": {
             "colorbar": {
              "outlinewidth": 0,
              "ticks": ""
             }
            },
            "marker": {
             "colorbar": {
              "outlinewidth": 0,
              "ticks": ""
             }
            },
            "type": "scatter3d"
           }
          ],
          "scattercarpet": [
           {
            "marker": {
             "colorbar": {
              "outlinewidth": 0,
              "ticks": ""
             }
            },
            "type": "scattercarpet"
           }
          ],
          "scattergeo": [
           {
            "marker": {
             "colorbar": {
              "outlinewidth": 0,
              "ticks": ""
             }
            },
            "type": "scattergeo"
           }
          ],
          "scattergl": [
           {
            "marker": {
             "colorbar": {
              "outlinewidth": 0,
              "ticks": ""
             }
            },
            "type": "scattergl"
           }
          ],
          "scattermap": [
           {
            "marker": {
             "colorbar": {
              "outlinewidth": 0,
              "ticks": ""
             }
            },
            "type": "scattermap"
           }
          ],
          "scattermapbox": [
           {
            "marker": {
             "colorbar": {
              "outlinewidth": 0,
              "ticks": ""
             }
            },
            "type": "scattermapbox"
           }
          ],
          "scatterpolar": [
           {
            "marker": {
             "colorbar": {
              "outlinewidth": 0,
              "ticks": ""
             }
            },
            "type": "scatterpolar"
           }
          ],
          "scatterpolargl": [
           {
            "marker": {
             "colorbar": {
              "outlinewidth": 0,
              "ticks": ""
             }
            },
            "type": "scatterpolargl"
           }
          ],
          "scatterternary": [
           {
            "marker": {
             "colorbar": {
              "outlinewidth": 0,
              "ticks": ""
             }
            },
            "type": "scatterternary"
           }
          ],
          "surface": [
           {
            "colorbar": {
             "outlinewidth": 0,
             "ticks": ""
            },
            "colorscale": [
             [
              0,
              "#0d0887"
             ],
             [
              0.1111111111111111,
              "#46039f"
             ],
             [
              0.2222222222222222,
              "#7201a8"
             ],
             [
              0.3333333333333333,
              "#9c179e"
             ],
             [
              0.4444444444444444,
              "#bd3786"
             ],
             [
              0.5555555555555556,
              "#d8576b"
             ],
             [
              0.6666666666666666,
              "#ed7953"
             ],
             [
              0.7777777777777778,
              "#fb9f3a"
             ],
             [
              0.8888888888888888,
              "#fdca26"
             ],
             [
              1,
              "#f0f921"
             ]
            ],
            "type": "surface"
           }
          ],
          "table": [
           {
            "cells": {
             "fill": {
              "color": "#EBF0F8"
             },
             "line": {
              "color": "white"
             }
            },
            "header": {
             "fill": {
              "color": "#C8D4E3"
             },
             "line": {
              "color": "white"
             }
            },
            "type": "table"
           }
          ]
         },
         "layout": {
          "annotationdefaults": {
           "arrowcolor": "#2a3f5f",
           "arrowhead": 0,
           "arrowwidth": 1
          },
          "autotypenumbers": "strict",
          "coloraxis": {
           "colorbar": {
            "outlinewidth": 0,
            "ticks": ""
           }
          },
          "colorscale": {
           "diverging": [
            [
             0,
             "#8e0152"
            ],
            [
             0.1,
             "#c51b7d"
            ],
            [
             0.2,
             "#de77ae"
            ],
            [
             0.3,
             "#f1b6da"
            ],
            [
             0.4,
             "#fde0ef"
            ],
            [
             0.5,
             "#f7f7f7"
            ],
            [
             0.6,
             "#e6f5d0"
            ],
            [
             0.7,
             "#b8e186"
            ],
            [
             0.8,
             "#7fbc41"
            ],
            [
             0.9,
             "#4d9221"
            ],
            [
             1,
             "#276419"
            ]
           ],
           "sequential": [
            [
             0,
             "#0d0887"
            ],
            [
             0.1111111111111111,
             "#46039f"
            ],
            [
             0.2222222222222222,
             "#7201a8"
            ],
            [
             0.3333333333333333,
             "#9c179e"
            ],
            [
             0.4444444444444444,
             "#bd3786"
            ],
            [
             0.5555555555555556,
             "#d8576b"
            ],
            [
             0.6666666666666666,
             "#ed7953"
            ],
            [
             0.7777777777777778,
             "#fb9f3a"
            ],
            [
             0.8888888888888888,
             "#fdca26"
            ],
            [
             1,
             "#f0f921"
            ]
           ],
           "sequentialminus": [
            [
             0,
             "#0d0887"
            ],
            [
             0.1111111111111111,
             "#46039f"
            ],
            [
             0.2222222222222222,
             "#7201a8"
            ],
            [
             0.3333333333333333,
             "#9c179e"
            ],
            [
             0.4444444444444444,
             "#bd3786"
            ],
            [
             0.5555555555555556,
             "#d8576b"
            ],
            [
             0.6666666666666666,
             "#ed7953"
            ],
            [
             0.7777777777777778,
             "#fb9f3a"
            ],
            [
             0.8888888888888888,
             "#fdca26"
            ],
            [
             1,
             "#f0f921"
            ]
           ]
          },
          "colorway": [
           "#636efa",
           "#EF553B",
           "#00cc96",
           "#ab63fa",
           "#FFA15A",
           "#19d3f3",
           "#FF6692",
           "#B6E880",
           "#FF97FF",
           "#FECB52"
          ],
          "font": {
           "color": "#2a3f5f"
          },
          "geo": {
           "bgcolor": "white",
           "lakecolor": "white",
           "landcolor": "#E5ECF6",
           "showlakes": true,
           "showland": true,
           "subunitcolor": "white"
          },
          "hoverlabel": {
           "align": "left"
          },
          "hovermode": "closest",
          "mapbox": {
           "style": "light"
          },
          "paper_bgcolor": "white",
          "plot_bgcolor": "#E5ECF6",
          "polar": {
           "angularaxis": {
            "gridcolor": "white",
            "linecolor": "white",
            "ticks": ""
           },
           "bgcolor": "#E5ECF6",
           "radialaxis": {
            "gridcolor": "white",
            "linecolor": "white",
            "ticks": ""
           }
          },
          "scene": {
           "xaxis": {
            "backgroundcolor": "#E5ECF6",
            "gridcolor": "white",
            "gridwidth": 2,
            "linecolor": "white",
            "showbackground": true,
            "ticks": "",
            "zerolinecolor": "white"
           },
           "yaxis": {
            "backgroundcolor": "#E5ECF6",
            "gridcolor": "white",
            "gridwidth": 2,
            "linecolor": "white",
            "showbackground": true,
            "ticks": "",
            "zerolinecolor": "white"
           },
           "zaxis": {
            "backgroundcolor": "#E5ECF6",
            "gridcolor": "white",
            "gridwidth": 2,
            "linecolor": "white",
            "showbackground": true,
            "ticks": "",
            "zerolinecolor": "white"
           }
          },
          "shapedefaults": {
           "line": {
            "color": "#2a3f5f"
           }
          },
          "ternary": {
           "aaxis": {
            "gridcolor": "white",
            "linecolor": "white",
            "ticks": ""
           },
           "baxis": {
            "gridcolor": "white",
            "linecolor": "white",
            "ticks": ""
           },
           "bgcolor": "#E5ECF6",
           "caxis": {
            "gridcolor": "white",
            "linecolor": "white",
            "ticks": ""
           }
          },
          "title": {
           "x": 0.05
          },
          "xaxis": {
           "automargin": true,
           "gridcolor": "white",
           "linecolor": "white",
           "ticks": "",
           "title": {
            "standoff": 15
           },
           "zerolinecolor": "white",
           "zerolinewidth": 2
          },
          "yaxis": {
           "automargin": true,
           "gridcolor": "white",
           "linecolor": "white",
           "ticks": "",
           "title": {
            "standoff": 15
           },
           "zerolinecolor": "white",
           "zerolinewidth": 2
          }
         }
        },
        "xaxis": {
         "anchor": "y",
         "domain": [
          0,
          0.8358
         ],
         "title": {
          "text": "bmi"
         }
        },
        "xaxis2": {
         "anchor": "y2",
         "domain": [
          0.8408,
          1
         ],
         "matches": "x2",
         "showgrid": false,
         "showline": false,
         "showticklabels": false,
         "ticks": ""
        },
        "yaxis": {
         "anchor": "x",
         "domain": [
          0,
          1
         ],
         "title": {
          "text": "expenses"
         }
        },
        "yaxis2": {
         "anchor": "x2",
         "domain": [
          0,
          1
         ],
         "matches": "y",
         "showgrid": true,
         "showticklabels": false
        }
       }
      }
     },
     "metadata": {},
     "output_type": "display_data"
    }
   ],
   "source": [
    "#Impact of BMI on Medical Expenses\n",
    "px.scatter(data, x='bmi', y='expenses', marginal_y = 'violin', trendline=  'ols')"
   ]
  },
  {
   "cell_type": "code",
   "execution_count": 21,
   "id": "3fd7fb78",
   "metadata": {},
   "outputs": [
    {
     "data": {
      "image/png": "[encoded data removed]",
      "text/plain": [
       "<Figure size 1600x500 with 2 Axes>"
      ]
     },
     "metadata": {},
     "output_type": "display_data"
    }
   ],
   "source": [
    "#Impact of smoking and chidlren on Medical Expenses\n",
    "plt.subplot(1, 2, 1)\n",
    "sns.boxplot(hue='children', y='expenses', data=data, palette='magma', legend=False)\n",
    "plt.xlabel('Children')\n",
    "\n",
    "plt.subplot(1, 2, 2)\n",
    "sns.boxplot(hue='smoker', y='expenses', data=data, palette='magma', legend=False)\n",
    "plt.xlabel('Smoker')\n",
    "\n",
    "plt.suptitle('Impact of Smoker and Children on Medical Expenses', fontsize = 15)\n",
    "plt.show()"
   ]
  },
  {
   "cell_type": "code",
   "execution_count": null,
   "id": "0126f78b",
   "metadata": {},
   "outputs": [],
   "source": []
  },
  {
   "cell_type": "code",
   "execution_count": null,
   "id": "083062e2",
   "metadata": {},
   "outputs": [],
   "source": []
  },
  {
   "cell_type": "code",
   "execution_count": null,
   "id": "824ab9a5",
   "metadata": {},
   "outputs": [],
   "source": []
  },
  {
   "cell_type": "code",
   "execution_count": null,
   "id": "ebf68e28",
   "metadata": {},
   "outputs": [],
   "source": []
  },
  {
   "cell_type": "code",
   "execution_count": null,
   "id": "5fcf0b63",
   "metadata": {},
   "outputs": [],
   "source": []
  },
  {
   "cell_type": "code",
   "execution_count": null,
   "id": "09c5bed0",
   "metadata": {},
   "outputs": [],
   "source": []
  },
  {
   "cell_type": "code",
   "execution_count": null,
   "id": "59e40dee",
   "metadata": {},
   "outputs": [],
   "source": []
  },
  {
   "cell_type": "code",
   "execution_count": null,
   "id": "bbd80ef6",
   "metadata": {},
   "outputs": [],
   "source": []
  },
  {
   "cell_type": "code",
   "execution_count": null,
   "id": "0cbe8de5",
   "metadata": {},
   "outputs": [],
   "source": []
  },
  {
   "cell_type": "code",
   "execution_count": null,
   "id": "9cb8225d",
   "metadata": {},
   "outputs": [],
   "source": []
  },
  {
   "cell_type": "code",
   "execution_count": null,
   "id": "32c02615",
   "metadata": {},
   "outputs": [],
   "source": []
  },
  {
   "cell_type": "code",
   "execution_count": null,
   "id": "f3ebb675",
   "metadata": {},
   "outputs": [],
   "source": []
  },
  {
   "cell_type": "code",
   "execution_count": null,
   "id": "47e914dc",
   "metadata": {},
   "outputs": [],
   "source": []
  },
  {
   "cell_type": "code",
   "execution_count": null,
   "id": "17fda129",
   "metadata": {},
   "outputs": [],
   "source": []
  },
  {
   "cell_type": "code",
   "execution_count": null,
   "id": "ced3e3fb",
   "metadata": {},
   "outputs": [],
   "source": []
  },
  {
   "cell_type": "code",
   "execution_count": null,
   "id": "7eeb0eb3",
   "metadata": {},
   "outputs": [],
   "source": []
  },
  {
   "cell_type": "code",
   "execution_count": null,
   "id": "ceb3a4f0",
   "metadata": {},
   "outputs": [],
   "source": []
  },
  {
   "cell_type": "code",
   "execution_count": null,
   "id": "9fae4f22",
   "metadata": {},
   "outputs": [],
   "source": []
  },
  {
   "cell_type": "code",
   "execution_count": null,
   "id": "d8dba513",
   "metadata": {},
   "outputs": [],
   "source": []
  },
  {
   "cell_type": "code",
   "execution_count": null,
   "id": "c7b08265",
   "metadata": {},
   "outputs": [],
   "source": []
  },
  {
   "cell_type": "code",
   "execution_count": null,
   "id": "8960b987",
   "metadata": {},
   "outputs": [],
   "source": []
  },
  {
   "cell_type": "code",
   "execution_count": null,
   "id": "1c968cc5",
   "metadata": {},
   "outputs": [],
   "source": []
  },
  {
   "cell_type": "code",
   "execution_count": null,
   "id": "3015cc00",
   "metadata": {},
   "outputs": [],
   "source": []
  },
  {
   "cell_type": "code",
   "execution_count": null,
   "id": "3079518e",
   "metadata": {},
   "outputs": [],
   "source": []
  },
  {
   "cell_type": "code",
   "execution_count": null,
   "id": "b279e98b",
   "metadata": {},
   "outputs": [],
   "source": []
  },
  {
   "cell_type": "code",
   "execution_count": null,
   "id": "75243ba8",
   "metadata": {},
   "outputs": [],
   "source": []
  },
  {
   "cell_type": "code",
   "execution_count": null,
   "id": "23576b45",
   "metadata": {},
   "outputs": [],
   "source": []
  },
  {
   "cell_type": "code",
   "execution_count": null,
   "id": "2dd42417",
   "metadata": {},
   "outputs": [],
   "source": []
  },
  {
   "cell_type": "code",
   "execution_count": null,
   "id": "5359aed8",
   "metadata": {},
   "outputs": [],
   "source": []
  }
 ],
 "metadata": {
  "kernelspec": {
   "display_name": "Python 3",
   "language": "python",
   "name": "python3"
  },
  "language_info": {
   "codemirror_mode": {
    "name": "ipython",
    "version": 3
   },
   "file_extension": ".py",
   "mimetype": "text/x-python",
   "name": "python",
   "nbconvert_exporter": "python",
   "pygments_lexer": "ipython3",
   "version": "3.13.3"
  }
 },
 "nbformat": 4,
 "nbformat_minor": 5
}
